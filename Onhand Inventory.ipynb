{
 "cells": [
  {
   "cell_type": "markdown",
   "id": "3542fc12-0ff9-40c4-a7b0-69d62abc1527",
   "metadata": {},
   "source": [
    "# Onhand Inventory\n",
    "\n",
    "This notebook generates the onhand inventory at the start of the production planning window. The onhand inventory is determined in a similar way as the supply of input materials. However, in this case, only for one time period. "
   ]
  },
  {
   "cell_type": "code",
   "execution_count": 1,
   "id": "46d20d86-bc25-42bb-a29e-86c8f0e5b81c",
   "metadata": {},
   "outputs": [],
   "source": [
    "#Importing libraries\n",
    "import pandas as pd\n",
    "import random\n",
    "import csv\n",
    "import os\n",
    "from itertools import chain\n",
    "\n",
    "#Setting random seed\n",
    "random.seed(2)"
   ]
  },
  {
   "cell_type": "code",
   "execution_count": 2,
   "id": "a71eede8-9282-4079-9ab5-4fab75cd9949",
   "metadata": {},
   "outputs": [],
   "source": [
    "#Setting workspace\n",
    "os.chdir('/Users/dennisdekoning/Downloads/ILP/input data')\n",
    "\n",
    "#Importing the different types of input materials\n",
    "with open('input_materials.csv', newline='') as f:\n",
    "    reader = csv.reader(f)\n",
    "    data = list(reader)\n",
    "\n",
    "input_materials = list(chain.from_iterable(data))[1::]"
   ]
  },
  {
   "cell_type": "code",
   "execution_count": 3,
   "id": "128afdb5-3693-4b71-93f9-75195bf49528",
   "metadata": {},
   "outputs": [],
   "source": [
    "#Defining supply function \n",
    "def inventory_onhand(input_materials):\n",
    "    \n",
    "    df = pd.DataFrame(index=['Onhand Inventory'])\n",
    "    for i, material in enumerate(input_materials):\n",
    "        df[material] = 20 - int(random.expovariate(1))\n",
    "        \n",
    "    return df"
   ]
  },
  {
   "cell_type": "code",
   "execution_count": 4,
   "id": "392c0639",
   "metadata": {},
   "outputs": [
    {
     "data": {
      "text/html": [
       "<div>\n",
       "<style scoped>\n",
       "    .dataframe tbody tr th:only-of-type {\n",
       "        vertical-align: middle;\n",
       "    }\n",
       "\n",
       "    .dataframe tbody tr th {\n",
       "        vertical-align: top;\n",
       "    }\n",
       "\n",
       "    .dataframe thead th {\n",
       "        text-align: right;\n",
       "    }\n",
       "</style>\n",
       "<table border=\"1\" class=\"dataframe\">\n",
       "  <thead>\n",
       "    <tr style=\"text-align: right;\">\n",
       "      <th></th>\n",
       "      <th>material 01</th>\n",
       "      <th>material 02</th>\n",
       "      <th>material 03</th>\n",
       "      <th>material 04</th>\n",
       "      <th>material 05</th>\n",
       "      <th>material 06</th>\n",
       "      <th>material 07</th>\n",
       "      <th>material 08</th>\n",
       "      <th>material 09</th>\n",
       "      <th>material 10</th>\n",
       "      <th>...</th>\n",
       "      <th>material 13</th>\n",
       "      <th>material 14</th>\n",
       "      <th>material 15</th>\n",
       "      <th>material 16</th>\n",
       "      <th>material 17</th>\n",
       "      <th>material 18</th>\n",
       "      <th>material 19</th>\n",
       "      <th>material 20</th>\n",
       "      <th>material 21</th>\n",
       "      <th>material 22</th>\n",
       "    </tr>\n",
       "  </thead>\n",
       "  <tbody>\n",
       "    <tr>\n",
       "      <th>Onhand Inventory</th>\n",
       "      <td>17</td>\n",
       "      <td>18</td>\n",
       "      <td>20</td>\n",
       "      <td>20</td>\n",
       "      <td>19</td>\n",
       "      <td>19</td>\n",
       "      <td>19</td>\n",
       "      <td>20</td>\n",
       "      <td>20</td>\n",
       "      <td>20</td>\n",
       "      <td>...</td>\n",
       "      <td>20</td>\n",
       "      <td>20</td>\n",
       "      <td>19</td>\n",
       "      <td>15</td>\n",
       "      <td>18</td>\n",
       "      <td>20</td>\n",
       "      <td>20</td>\n",
       "      <td>20</td>\n",
       "      <td>20</td>\n",
       "      <td>20</td>\n",
       "    </tr>\n",
       "  </tbody>\n",
       "</table>\n",
       "<p>1 rows × 22 columns</p>\n",
       "</div>"
      ],
      "text/plain": [
       "                  material 01  material 02  material 03  material 04  \\\n",
       "Onhand Inventory           17           18           20           20   \n",
       "\n",
       "                  material 05  material 06  material 07  material 08  \\\n",
       "Onhand Inventory           19           19           19           20   \n",
       "\n",
       "                  material 09  material 10  ...  material 13  material 14  \\\n",
       "Onhand Inventory           20           20  ...           20           20   \n",
       "\n",
       "                  material 15  material 16  material 17  material 18  \\\n",
       "Onhand Inventory           19           15           18           20   \n",
       "\n",
       "                  material 19  material 20  material 21  material 22  \n",
       "Onhand Inventory           20           20           20           20  \n",
       "\n",
       "[1 rows x 22 columns]"
      ]
     },
     "execution_count": 4,
     "metadata": {},
     "output_type": "execute_result"
    }
   ],
   "source": [
    "#Printing inventory on hand\n",
    "inventory_onhand(input_materials)"
   ]
  },
  {
   "cell_type": "code",
   "execution_count": 5,
   "id": "42e43265-8f7d-45ff-83f7-bdb67c8fc116",
   "metadata": {},
   "outputs": [],
   "source": [
    "#Saving results as csv\n",
    "inventory_onhand(input_materials).to_csv('/Users/dennisdekoning/Downloads/inventory_onhand.csv')"
   ]
  }
 ],
 "metadata": {
  "kernelspec": {
   "display_name": "Python 3.9.7 ('base')",
   "language": "python",
   "name": "python3"
  },
  "language_info": {
   "codemirror_mode": {
    "name": "ipython",
    "version": 3
   },
   "file_extension": ".py",
   "mimetype": "text/x-python",
   "name": "python",
   "nbconvert_exporter": "python",
   "pygments_lexer": "ipython3",
   "version": "3.9.7"
  },
  "vscode": {
   "interpreter": {
    "hash": "f449e6776fa4b2f78db937c2e3ac6f01c3d52d47a2da61195f80e56d1630937a"
   }
  }
 },
 "nbformat": 4,
 "nbformat_minor": 5
}
