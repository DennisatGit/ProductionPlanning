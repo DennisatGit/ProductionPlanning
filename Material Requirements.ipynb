{
 "cells": [
  {
   "cell_type": "markdown",
   "id": "3ff4d2b4-89d2-401f-bb82-ca0ef6b29278",
   "metadata": {},
   "source": [
    "# Conversion Matrix\n",
    "\n",
    "This notebook defines the conversion matrix used for the ILP in the repo. The conversion matrix shows the material requirements of the final assemblies in terms of input materials. Random generation is used to assign each input material to a certain final assembly, this assignment is done with replacement. Therefore, one input material can be used for multiple final assemblies. "
   ]
  },
  {
   "cell_type": "code",
   "execution_count": 1,
   "id": "4c9a14c5-8f2a-4d31-bbfa-d6490f59732c",
   "metadata": {},
   "outputs": [],
   "source": [
    "#Importing libraries\n",
    "import pandas as pd\n",
    "import random\n",
    "import csv\n",
    "from itertools import chain\n",
    "import os\n",
    "\n",
    "#Setting random seed\n",
    "random.seed(2)\n"
   ]
  },
  {
   "cell_type": "code",
   "execution_count": 2,
   "id": "50894022-0687-4640-b6a4-a4d8ded893bd",
   "metadata": {},
   "outputs": [],
   "source": [
    "#Setting workspace\n",
    "os.chdir('Input Data')\n",
    "\n",
    "#Defining function to import csv as list\n",
    "def open_csv(csv_file):\n",
    "    with open(csv_file, newline='') as f:\n",
    "        reader = csv.reader(f)\n",
    "        data = list(reader)\n",
    "\n",
    "    return list(chain.from_iterable(data))[1::]\n",
    "\n",
    "#Importing the different types of input materials\n",
    "input_materials = open_csv('input_materials.csv')\n",
    "\n",
    "#Importing the different types of final assemblies\n",
    "final_assemblies = open_csv('final_assemblies.csv')\n",
    "\n",
    "#Determining time window\n",
    "time = range(30)"
   ]
  },
  {
   "cell_type": "code",
   "execution_count": 3,
   "id": "98871086-9bf2-4a96-ad6e-5827433d100f",
   "metadata": {},
   "outputs": [],
   "source": [
    "#Defining conversion matrix function\n",
    "def conversion_matrix(input_materials, final_assemblies):\n",
    "    \n",
    "    df = pd.DataFrame(index=final_assemblies, columns=input_materials)\n",
    "    for assembly in final_assemblies:\n",
    "        k = random.randint(8,18)\n",
    "        materials = random.sample(input_materials, k=k)\n",
    "        for material in materials:\n",
    "            df.loc[assembly, material] = random.randint(16,26)\n",
    "        df.fillna(0, inplace=True)\n",
    "    \n",
    "    return df"
   ]
  },
  {
   "cell_type": "code",
   "execution_count": 4,
   "id": "d80d7dc9-81d9-4676-a7af-4b980ac91ce5",
   "metadata": {},
   "outputs": [
    {
     "data": {
      "text/plain": [
       "assembly 1    179\n",
       "assembly 2    264\n",
       "assembly 3    409\n",
       "assembly 4    244\n",
       "assembly 5    323\n",
       "dtype: int64"
      ]
     },
     "execution_count": 4,
     "metadata": {},
     "output_type": "execute_result"
    }
   ],
   "source": [
    "#Priting conversion matrix\n",
    "conversion_matrix(input_materials, final_assemblies).sum(axis=1)"
   ]
  },
  {
   "cell_type": "code",
   "execution_count": 5,
   "id": "20317619-4c8b-4084-b45f-b987731d03a7",
   "metadata": {},
   "outputs": [],
   "source": [
    "#Saving results as csv\n",
    "conversion_matrix(input_materials, final_assemblies).to_csv('material_requirements.csv')"
   ]
  }
 ],
 "metadata": {
  "kernelspec": {
   "display_name": "Python 3.9.7 ('base')",
   "language": "python",
   "name": "python3"
  },
  "language_info": {
   "codemirror_mode": {
    "name": "ipython",
    "version": 3
   },
   "file_extension": ".py",
   "mimetype": "text/x-python",
   "name": "python",
   "nbconvert_exporter": "python",
   "pygments_lexer": "ipython3",
   "version": "3.9.7"
  },
  "vscode": {
   "interpreter": {
    "hash": "f449e6776fa4b2f78db937c2e3ac6f01c3d52d47a2da61195f80e56d1630937a"
   }
  }
 },
 "nbformat": 4,
 "nbformat_minor": 5
}
